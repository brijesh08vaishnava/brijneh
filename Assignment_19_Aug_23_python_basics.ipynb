{
 "cells": [
  {
   "cell_type": "code",
   "execution_count": 1,
   "id": "29b3b337-ad0c-4691-9619-09fbb255db9b",
   "metadata": {},
   "outputs": [
    {
     "data": {
      "text/plain": [
       "'topic:Python basic variable'"
      ]
     },
     "execution_count": 1,
     "metadata": {},
     "output_type": "execute_result"
    }
   ],
   "source": [
    "'topic:Python basic variable'"
   ]
  },
  {
   "cell_type": "code",
   "execution_count": 2,
   "id": "207de0a5-dd8e-4cdc-9f45-aea2f9d72b13",
   "metadata": {},
   "outputs": [
    {
     "data": {
      "text/plain": [
       "'Q.1'"
      ]
     },
     "execution_count": 2,
     "metadata": {},
     "output_type": "execute_result"
    }
   ],
   "source": [
    "'Q.1'"
   ]
  },
  {
   "cell_type": "code",
   "execution_count": 3,
   "id": "f9a1e94d-05d9-4fdd-91cd-a11598e959df",
   "metadata": {},
   "outputs": [],
   "source": [
    "x=3"
   ]
  },
  {
   "cell_type": "code",
   "execution_count": 4,
   "id": "4e88253c-4c9a-40d3-961d-25a5f154f2a8",
   "metadata": {},
   "outputs": [],
   "source": [
    "y=5"
   ]
  },
  {
   "cell_type": "code",
   "execution_count": 5,
   "id": "d406bec7-17b6-4db9-987f-2ef1be2a6deb",
   "metadata": {},
   "outputs": [],
   "source": [
    "#code to swap numbers"
   ]
  },
  {
   "cell_type": "code",
   "execution_count": 6,
   "id": "f54a9cf0-4f3e-4393-a8da-fece32fcefd6",
   "metadata": {},
   "outputs": [],
   "source": [
    "x=x+y"
   ]
  },
  {
   "cell_type": "code",
   "execution_count": 8,
   "id": "4039c884-7b23-40e1-9698-2b19e1baf034",
   "metadata": {},
   "outputs": [],
   "source": [
    "# x becomes 8 "
   ]
  },
  {
   "cell_type": "code",
   "execution_count": 9,
   "id": "821eda09-70fe-4209-9e5a-6d2ecb38d49b",
   "metadata": {},
   "outputs": [],
   "source": [
    "y=x-y"
   ]
  },
  {
   "cell_type": "code",
   "execution_count": 10,
   "id": "cd5a430f-7410-49c5-9135-7fd4e1df084f",
   "metadata": {},
   "outputs": [],
   "source": [
    "# y becomes 3"
   ]
  },
  {
   "cell_type": "code",
   "execution_count": 11,
   "id": "fc7f419e-393f-4570-b505-8c10c85f3755",
   "metadata": {},
   "outputs": [],
   "source": [
    "x=x-y"
   ]
  },
  {
   "cell_type": "code",
   "execution_count": 12,
   "id": "19b37b4e-07ff-4264-ac15-64cbd35bc653",
   "metadata": {},
   "outputs": [],
   "source": [
    "# x becomes 5"
   ]
  },
  {
   "cell_type": "code",
   "execution_count": 16,
   "id": "ea19cf9b-8319-40f3-bade-b8d92f4f69d8",
   "metadata": {},
   "outputs": [
    {
     "name": "stdout",
     "output_type": "stream",
     "text": [
      "after swaping: x= 3 y= 5\n"
     ]
    }
   ],
   "source": [
    "print(\"after swaping: x=\",x,\"y=\",y)"
   ]
  },
  {
   "cell_type": "code",
   "execution_count": 17,
   "id": "2299cea1-86aa-4050-aebd-46fbe7353169",
   "metadata": {},
   "outputs": [],
   "source": [
    "# Q.2 programme to calculate area of rectangle"
   ]
  },
  {
   "cell_type": "code",
   "execution_count": 18,
   "id": "65f31a4e-037d-4ac3-b86c-8d0afd92c2e8",
   "metadata": {},
   "outputs": [],
   "source": [
    "# length and width as input by user"
   ]
  },
  {
   "cell_type": "code",
   "execution_count": 24,
   "id": "596df599-be2f-4655-a8d3-f5dc07d283dd",
   "metadata": {},
   "outputs": [
    {
     "name": "stdin",
     "output_type": "stream",
     "text": [
      "Enter the Length of Rectangle : 10\n"
     ]
    }
   ],
   "source": [
    "Length= int(input(\"Enter the Length of Rectangle :\"))"
   ]
  },
  {
   "cell_type": "code",
   "execution_count": 25,
   "id": "f12cac90-3b2d-4616-962c-354dea6e7524",
   "metadata": {},
   "outputs": [
    {
     "name": "stdin",
     "output_type": "stream",
     "text": [
      "Enter the Width of Rectangle : 20\n"
     ]
    }
   ],
   "source": [
    "Width=int(input('Enter the Width of Rectangle :'))"
   ]
  },
  {
   "cell_type": "code",
   "execution_count": 28,
   "id": "19c1d668-5a66-4511-b065-bcc449e36a66",
   "metadata": {},
   "outputs": [],
   "source": [
    "Area=Length*Width"
   ]
  },
  {
   "cell_type": "code",
   "execution_count": 43,
   "id": "9c4e4113-4c9f-4e03-9599-7683b04f870f",
   "metadata": {},
   "outputs": [
    {
     "name": "stdout",
     "output_type": "stream",
     "text": [
      "Area of Rectangle: 200\n"
     ]
    }
   ],
   "source": [
    "print(\"Area of Rectangle:\",Area)"
   ]
  },
  {
   "cell_type": "code",
   "execution_count": 44,
   "id": "3de61972-af66-43f6-850b-45c00c30213a",
   "metadata": {},
   "outputs": [],
   "source": [
    "# Q3 program to convert Celsius to Fahrenhiet "
   ]
  },
  {
   "cell_type": "code",
   "execution_count": 45,
   "id": "5f532e48-d6ee-4c54-93db-edcb4d44143c",
   "metadata": {},
   "outputs": [],
   "source": [
    "#Celsius as input by user"
   ]
  },
  {
   "cell_type": "code",
   "execution_count": 47,
   "id": "688dbf04-5074-43cf-ad88-546e5b70ddee",
   "metadata": {},
   "outputs": [
    {
     "name": "stdin",
     "output_type": "stream",
     "text": [
      "Enter the degree of Celsius 32\n"
     ]
    }
   ],
   "source": [
    "Celsius=float(input('Enter the degree of Celsius'))"
   ]
  },
  {
   "cell_type": "code",
   "execution_count": 48,
   "id": "ff7fdd62-166d-4728-a92f-e23bc775a7d6",
   "metadata": {},
   "outputs": [],
   "source": [
    "# formula to convert Celsius to fahrenheit "
   ]
  },
  {
   "cell_type": "code",
   "execution_count": 49,
   "id": "6d943932-3816-466f-b905-8b6514494d3b",
   "metadata": {},
   "outputs": [],
   "source": [
    "Farenheit=(Celsius*1.8)+32"
   ]
  },
  {
   "cell_type": "code",
   "execution_count": 51,
   "id": "011880bd-717c-4e2d-b9c4-2661ef84e5ae",
   "metadata": {},
   "outputs": [
    {
     "name": "stdout",
     "output_type": "stream",
     "text": [
      "Celsius is equal to: 89.6\n"
     ]
    }
   ],
   "source": [
    "print('Celsius is equal to:',Farenheit)"
   ]
  },
  {
   "cell_type": "code",
   "execution_count": 1,
   "id": "bdb5703d-c78a-4f02-93e3-e6bc8a275e97",
   "metadata": {},
   "outputs": [],
   "source": [
    "#Topic String Based Questions"
   ]
  },
  {
   "cell_type": "code",
   "execution_count": 2,
   "id": "3f4feb35-69fd-4fab-bc87-cae56f00247c",
   "metadata": {},
   "outputs": [],
   "source": [
    "# Q.1 Program that takes a String as input and prints the lenght of the string"
   ]
  },
  {
   "cell_type": "code",
   "execution_count": 3,
   "id": "df3b1b7d-82f1-4226-8d17-1b63dc7f28d4",
   "metadata": {},
   "outputs": [
    {
     "name": "stdin",
     "output_type": "stream",
     "text": [
      " Brijesh Vaishnava\n"
     ]
    }
   ],
   "source": [
    "S1= string(input())"
   ]
  },
  {
   "cell_type": "code",
   "execution_count": 4,
   "id": "555d1297-3cd3-4359-b8aa-8d7bcb7b320e",
   "metadata": {},
   "outputs": [],
   "source": [
    "Length = len(S1)"
   ]
  },
  {
   "cell_type": "code",
   "execution_count": 10,
   "id": "7b5fce07-42b2-4f45-a92e-26f64b1b2284",
   "metadata": {},
   "outputs": [
    {
     "name": "stdout",
     "output_type": "stream",
     "text": [
      "The length of the string Brijesh Vaishnava is 17\n"
     ]
    }
   ],
   "source": [
    "print( \"The length of the string\",S1 ,\"is\" ,Length)"
   ]
  },
  {
   "cell_type": "code",
   "execution_count": 21,
   "id": "2ed6b0b5-35bf-4c6f-b6b0-913cb937a419",
   "metadata": {},
   "outputs": [],
   "source": [
    "# Q2 Program that takes a sentence from user and counts the number of vowels in string"
   ]
  },
  {
   "cell_type": "code",
   "execution_count": 22,
   "id": "ed40a47c-6f11-42bc-b55b-8fb37fa2080d",
   "metadata": {},
   "outputs": [
    {
     "name": "stdin",
     "output_type": "stream",
     "text": [
      " my name is brijesh\n"
     ]
    }
   ],
   "source": [
    "Example = input()"
   ]
  },
  {
   "cell_type": "code",
   "execution_count": 23,
   "id": "6a48897b-394b-46dc-95a2-8e867d1eb7e2",
   "metadata": {},
   "outputs": [],
   "source": [
    "# list creation"
   ]
  },
  {
   "cell_type": "code",
   "execution_count": 24,
   "id": "4cc1164e-eab8-428f-9fa7-92a57849ca75",
   "metadata": {},
   "outputs": [],
   "source": [
    "count=len([char for char in Example if char in \"aeiouAEIOU\"])"
   ]
  },
  {
   "cell_type": "code",
   "execution_count": 25,
   "id": "810cde7d-ecd7-45f8-8fa1-d902dc875ee3",
   "metadata": {},
   "outputs": [
    {
     "name": "stdout",
     "output_type": "stream",
     "text": [
      "Number of vowels in Example by user is: 5\n"
     ]
    }
   ],
   "source": [
    "print(\"Number of vowels in Example by user is:\",count)"
   ]
  },
  {
   "cell_type": "code",
   "execution_count": 26,
   "id": "08574dde-6d36-488a-9011-38afe1648d61",
   "metadata": {},
   "outputs": [],
   "source": [
    "#Q3 reverse the order of characters in string using string slicing and print the reverse order"
   ]
  },
  {
   "cell_type": "code",
   "execution_count": 27,
   "id": "9726cf19-f806-4308-9c62-75ca42052f0f",
   "metadata": {},
   "outputs": [
    {
     "name": "stdin",
     "output_type": "stream",
     "text": [
      " NARENDRA MODI\n"
     ]
    }
   ],
   "source": [
    "S1= input()"
   ]
  },
  {
   "cell_type": "code",
   "execution_count": 41,
   "id": "5ab3fa6c-93ba-4a60-af00-57b42f33656e",
   "metadata": {},
   "outputs": [
    {
     "name": "stdout",
     "output_type": "stream",
     "text": [
      "reverse order is: IDOM ARDNERAN\n"
     ]
    }
   ],
   "source": [
    "print(\"reverse order is:\",S1[::-1])"
   ]
  },
  {
   "cell_type": "code",
   "execution_count": 42,
   "id": "cacfbc48-bd55-49ae-915c-efb1f1edfe34",
   "metadata": {},
   "outputs": [],
   "source": [
    "#Q4 # Program to check if a string is palindrome or not"
   ]
  },
  {
   "cell_type": "code",
   "execution_count": 70,
   "id": "4217c29f-8cac-4093-b1c1-5280cd14d16b",
   "metadata": {},
   "outputs": [
    {
     "name": "stdin",
     "output_type": "stream",
     "text": [
      " malayalam\n"
     ]
    }
   ],
   "source": [
    "Language= str(input())"
   ]
  },
  {
   "cell_type": "code",
   "execution_count": 72,
   "id": "0bd15fa2-b3c3-4b26-99a2-f544419de383",
   "metadata": {},
   "outputs": [],
   "source": [
    "ans=Language[::-1]"
   ]
  },
  {
   "cell_type": "code",
   "execution_count": 50,
   "id": "93f353fb-a4ed-4957-a3da-95d5b537777a",
   "metadata": {},
   "outputs": [],
   "source": [
    "# check if the string is equal to its reverse"
   ]
  },
  {
   "cell_type": "code",
   "execution_count": 73,
   "id": "6ba58705-e875-46d8-90b8-c334cda1489f",
   "metadata": {},
   "outputs": [
    {
     "name": "stdout",
     "output_type": "stream",
     "text": [
      "the string is a palindrome\n"
     ]
    }
   ],
   "source": [
    "if list(Language) == list(ans):print (\"the string is a palindrome\")\n",
    "else:print(\"NO\")"
   ]
  },
  {
   "cell_type": "code",
   "execution_count": 74,
   "id": "e9dd5400-a043-4d3c-8021-5d0ca2f5e179",
   "metadata": {},
   "outputs": [],
   "source": [
    "#Q5 program that removes spaces and print modified"
   ]
  },
  {
   "cell_type": "code",
   "execution_count": 75,
   "id": "fc786bb6-fced-4263-9cb7-eb496f036ce6",
   "metadata": {},
   "outputs": [
    {
     "name": "stdin",
     "output_type": "stream",
     "text": [
      " i love india\n"
     ]
    }
   ],
   "source": [
    "s1= str(input())"
   ]
  },
  {
   "cell_type": "code",
   "execution_count": 78,
   "id": "b99cdec9-254c-473f-b4fc-5ea5bd0bb0b6",
   "metadata": {},
   "outputs": [],
   "source": [
    "s2=s1.replace(\" \",\"\")"
   ]
  },
  {
   "cell_type": "code",
   "execution_count": 79,
   "id": "1515cb28-e72c-4729-a845-2fc3bcc16239",
   "metadata": {},
   "outputs": [
    {
     "name": "stdout",
     "output_type": "stream",
     "text": [
      "Modified string without spaces is: iloveindia\n"
     ]
    }
   ],
   "source": [
    "print(\"Modified string without spaces is:\",s2)"
   ]
  }
 ],
 "metadata": {
  "kernelspec": {
   "display_name": "Python 3 (ipykernel)",
   "language": "python",
   "name": "python3"
  },
  "language_info": {
   "codemirror_mode": {
    "name": "ipython",
    "version": 3
   },
   "file_extension": ".py",
   "mimetype": "text/x-python",
   "name": "python",
   "nbconvert_exporter": "python",
   "pygments_lexer": "ipython3",
   "version": "3.10.8"
  }
 },
 "nbformat": 4,
 "nbformat_minor": 5
}
